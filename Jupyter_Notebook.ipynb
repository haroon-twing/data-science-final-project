{
 "cells": [
  {
   "cell_type": "markdown",
   "metadata": {},
   "source": [
    "<center>\n",
    "    <img src=\"https://cf-courses-data.s3.us.cloud-object-storage.appdomain.cloud/IBMDeveloperSkillsNetwork-DS0105EN-SkillsNetwork/labs/Module2/images/SN_web_lightmode.png\" width=\"300\" alt=\"cognitiveclass.ai logo\">\n",
    "</center>\n"
   ]
  },
  {
   "cell_type": "markdown",
   "metadata": {},
   "source": [
    "#### Add your code below following the instructions given in the course\n"
   ]
  },
  {
   "cell_type": "markdown",
   "metadata": {},
   "source": [
    "# Tools for Data Science - Final Project"
   ]
  },
  {
   "cell_type": "markdown",
   "metadata": {},
   "source": [
    "### Introduction: I am going to complete this course 'Tools for Data Science'. This was an amazing course with a lot of interactive content. By completing this course, I will be able to apply data science tools on real world scenarios. Particularly, this is the final project in which I am going to complete several tasks given."
   ]
  },
  {
   "cell_type": "markdown",
   "metadata": {},
   "source": [
    "### Data Science Languages\n",
    "- Python\n",
    "- R\n",
    "- Scala\n",
    "- Swift\n",
    "- JavaScript"
   ]
  },
  {
   "cell_type": "markdown",
   "metadata": {},
   "source": [
    "### Data Science Libraries\n",
    "\n",
    "- TensorFlow\n",
    "- NumPy\n",
    "- SciPy \n",
    "- Pandas\n",
    "- Matplotlib \n",
    "- Keras\n",
    "- SciKit-Learn\n",
    "- PyTorch"
   ]
  },
  {
   "cell_type": "markdown",
   "metadata": {},
   "source": [
    "### Table of Data Science Tools\n",
    "\n",
    "| No  | Tool  |\n",
    "|---|---|\n",
    "| 1  | Apache Spark  |\n",
    "| 2 |  BigML |\n",
    "| 3 |  MATLAB |\n",
    "| 4 |  Tableau |\n",
    "| 5 |  Jupyter |\n",
    "| 6 |  Matplotlib |\n",
    "| 7 |  Scikit-learn |\n",
    "| 8 |  TensorFlow |"
   ]
  },
  {
   "cell_type": "markdown",
   "metadata": {},
   "source": [
    "### Arithmetic Expressions\n",
    "\n",
    "Arithmetic expressions in programming involve performing mathematical operations on numbers. In Python, common arithmetic operators include:\n",
    "\n",
    "- **Addition (+):** Adds two numbers.\n",
    "- **Subtraction (-):** Subtracts the right operand from the left operand.\n",
    "- **Multiplication (*):** Multiplies two numbers.\n",
    "- **Division (/):** Divides the left operand by the right operand.\n",
    "- **Exponentiation (**):** Raises the left operand to the power of the right operand."
   ]
  },
  {
   "cell_type": "code",
   "execution_count": 1,
   "metadata": {
    "tags": []
   },
   "outputs": [
    {
     "name": "stdout",
     "output_type": "stream",
     "text": [
      "Multiplication: 12\n",
      "Addition: 8\n"
     ]
    }
   ],
   "source": [
    "result_multiplication = 6 * 2\n",
    "print(\"Multiplication:\", result_multiplication)\n",
    "\n",
    "result_addition = 5 + 3\n",
    "print(\"Addition:\", result_addition)\n"
   ]
  },
  {
   "cell_type": "code",
   "execution_count": 3,
   "metadata": {
    "tags": []
   },
   "outputs": [
    {
     "name": "stdout",
     "output_type": "stream",
     "text": [
      "Hours: 2.0\n"
     ]
    }
   ],
   "source": [
    "# Minute to hours\n",
    "minutes = 120\n",
    "hours = minutes / 60\n",
    "print(\"Hours:\", hours)"
   ]
  },
  {
   "cell_type": "markdown",
   "metadata": {},
   "source": [
    "### Objectives\n",
    "\n",
    "- Understand fundamental concepts in statistics and mathematics.\n",
    "- Master a programming language like Python.\n",
    "- Learn data manipulation with Pandas.\n",
    "- Learn the basics of machine learning algorithms.\n",
    "- Familiarize yourself with machine learning libraries.\n",
    "- Explore deep learning concepts and frameworks.\n",
    "- Practice real-world data science projects.\n",
    "- Learn version control with Git."
   ]
  },
  {
   "cell_type": "markdown",
   "metadata": {},
   "source": [
    "#### Author is IBM\n",
    "#### Course taught by Aije Egwaikhide, Svetlana Levitan and Romeo Kienzler"
   ]
  },
  {
   "cell_type": "code",
   "execution_count": null,
   "metadata": {},
   "outputs": [],
   "source": []
  }
 ],
 "metadata": {
  "kernelspec": {
   "display_name": "Python",
   "language": "python",
   "name": "conda-env-python-py"
  },
  "language_info": {
   "codemirror_mode": {
    "name": "ipython",
    "version": 3
   },
   "file_extension": ".py",
   "mimetype": "text/x-python",
   "name": "python",
   "nbconvert_exporter": "python",
   "pygments_lexer": "ipython3",
   "version": "3.7.12"
  }
 },
 "nbformat": 4,
 "nbformat_minor": 4
}
